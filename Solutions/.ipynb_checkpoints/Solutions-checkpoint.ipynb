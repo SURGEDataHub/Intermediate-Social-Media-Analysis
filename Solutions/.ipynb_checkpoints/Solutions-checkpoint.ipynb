{
 "cells": [
  {
   "cell_type": "markdown",
   "id": "d63e03f1-34fa-428a-94bd-3ab936308020",
   "metadata": {},
   "source": [
    "# Solutions:"
   ]
  },
  {
   "cell_type": "markdown",
   "id": "7c363410-cbe9-47bc-8780-18abd7c4f0c6",
   "metadata": {},
   "source": [
    "## Module 1"
   ]
  },
  {
   "cell_type": "code",
   "execution_count": null,
   "id": "25ef4689-d25b-497f-8504-16d7175b7ad9",
   "metadata": {},
   "outputs": [],
   "source": [
    "# exercise 1:\n",
    "\n",
    "df3 = df.groupby(['user_name'])[['id']].count()   \n",
    "df3.sort_values(by=['id'], ascending=False).head(10)\n",
    "\n",
    "\n",
    "# exercise 2:\n",
    "\n",
    "NYdf = df.loc[df['user_location'].str.contains('New York', regex=False, na=False)]\n",
    "df_day2 = NYdf.set_index('date').groupby(pd.Grouper(freq='D')).count()[['user_name']]\n",
    "\n",
    "fig = plt.figure(figsize = (10, 5))\n",
    "\n",
    "plt.plot(df_day2.index, df_day2.user_name)\n",
    "plt.title('Number of daily tweets from New York')\n",
    "plt.xticks(rotation=30, ha='right')\n",
    "plt.xlabel('Date')\n",
    "plt.ylabel('Tweets')"
   ]
  },
  {
   "cell_type": "markdown",
   "id": "4d3b3f4b-e9f7-409c-a31e-80fbfca3f82b",
   "metadata": {},
   "source": [
    "## Module 2"
   ]
  },
  {
   "cell_type": "code",
   "execution_count": null,
   "id": "851b9f4f-8c95-4c82-b36d-e07c3073af41",
   "metadata": {},
   "outputs": [],
   "source": [
    "# exercise 1: Most retweeted tweet\n",
    "\n",
    "# tweet with the most retweets\n",
    "most_retweeted_tweet = tweets_by_account.loc[tweets_by_account.nretweets == tweets_by_account.nretweets.max()]\n",
    "print('Most retweeted Tweet:')\n",
    "most_retweeted_tweet['tweet'].item()\n",
    "\n",
    "\n",
    "# exercise 2:\n",
    "\n",
    "# visualize the date range of tweets collected\n",
    "\n",
    "tweets_by_keyword_day = tweets_by_keyword.groupby(['date_only']).count()['id']\n",
    "plt.figure(figsize=(10,8))\n",
    "sns.barplot(x=tweets_by_keyword_day.index,\n",
    "            y=tweets_by_keyword_day.values,\n",
    "            color='c')\n",
    "plt.title('VOLUME OF TWEETS')\n",
    "plt.show()"
   ]
  },
  {
   "cell_type": "markdown",
   "id": "27db40d6-5db8-489e-bdf5-1a275b9ebf12",
   "metadata": {},
   "source": [
    "## Module 3"
   ]
  },
  {
   "cell_type": "code",
   "execution_count": null,
   "id": "87b5349f-d1c9-4c0b-85a1-26aa4437249d",
   "metadata": {},
   "outputs": [],
   "source": [
    "# exercise 1: Remove Punctuation\n",
    "\n",
    "corpus = [re.sub(r'[^\\w\\s]',' ',tweet) for tweet in corpus]\n",
    "\n",
    "\n",
    "# exercise 2: Most frequent words on the day of Cambodia's Commune Elections\n",
    "\n",
    "# select date of interest\n",
    "tweets_df_date = tweets_df.loc[tweets_df.date == '2022-06-05']\n",
    "\n",
    "# get a list of all words in the corpus\n",
    "all_words = list(itertools.chain(*tweets_df_date.final_text))\n",
    "\n",
    "# count how many times each word occurs\n",
    "word_counts = collections.Counter(all_words)\n",
    "\n",
    "# Top 10 most common words\n",
    "word_counts.most_common(15)\n",
    "\n",
    "\n",
    "# exercise 3: Wordcloud for the day of Cambodia's Commune Elections\n",
    "\n",
    "# get tweets on 5 June 2022\n",
    "tweets_df_date = tweets_df.loc[tweets_df.date == '2022-06-05']\n",
    "\n",
    "# put all tweets in this timeframe together \n",
    "commune_election_tweets = \" \".join([\" \".join([word for word in tweet]) for tweet in tweets_df_date.final_text])\n",
    "\n",
    "# visualize the wordcloud\n",
    "wordcloud = WordCloud(max_words=120, background_color=\"white\", width=1000, height=600).generate(commune_election_tweets)\n",
    "\n",
    "plt.figure(figsize=[20,10])\n",
    "plt.imshow(wordcloud, interpolation='bilinear')\n",
    "plt.axis(\"off\")\n",
    "plt.show()"
   ]
  },
  {
   "cell_type": "markdown",
   "id": "fdf0b529-6d56-4af5-84b9-fb355fa7e54b",
   "metadata": {},
   "source": [
    "## Module 4"
   ]
  },
  {
   "cell_type": "code",
   "execution_count": null,
   "id": "c7abb0ba-6a28-47f9-a10c-d927e11126f7",
   "metadata": {},
   "outputs": [],
   "source": [
    "# Exercise: Model training using a disaster response dataset \n",
    "## TO DO: Save and load the model, and classify on a new text\n",
    "\n",
    "def save_model(tfidf_vectorizer, model_dir, model_file_name,label_encoder):\n",
    "\n",
    "    base_name = os.path.basename(model_file_name)\n",
    "    base_name = os.path.splitext(base_name)[0]\n",
    "    model_file = model_dir + \"/\" + base_name + \".hdf5\"\n",
    "    tokenizer_file = model_dir + \"/\" + base_name + \".tokenizer\"\n",
    "    label_encoder_file = model_dir + \"/\" + base_name + \".label_encoder\"\n",
    "\n",
    "    configfile = model_dir + \"/\" + base_name + \".config\"\n",
    "    configFile = open(configfile, \"w\")\n",
    "    configFile.write(\"model_file=\" + model_file + \"\\n\")\n",
    "    configFile.write(\"tokenizer_file=\" + tokenizer_file + \"\\n\")\n",
    "    configFile.write(\"label_encoder_file=\" + label_encoder_file + \"\\n\")\n",
    "    configFile.close()\n",
    "\n",
    "    # serialize weights to HDF5\n",
    "    with open(model_file, 'wb') as file:\n",
    "        pickle.dump(classifier, file)\n",
    "\n",
    "    # saving tokenizer\n",
    "    with open(tokenizer_file, 'wb') as handle:\n",
    "        pickle.dump(tfidf_vectorizer, handle, protocol=pickle.HIGHEST_PROTOCOL)\n",
    "\n",
    "    # saving label_encoder\n",
    "    with open(label_encoder_file, 'wb') as handle:\n",
    "        pickle.dump(label_encoder, handle, protocol=pickle.HIGHEST_PROTOCOL)\n",
    "\n",
    "model_dir=\"./model/\"\n",
    "!mkdir -p $model_dir\n",
    "model_file_name=\"sentiment_data\"\n",
    "save_model(tfidf_vectorizer, model_dir, model_file_name, label_encoder)\n",
    "\n",
    "def predict_single_item(loaded_model, tokenizer, label_encoder, text):\n",
    "    data=[]\n",
    "    data.append(text)\n",
    "    x_feat = tokenizer.transform(data)\n",
    "    dense = x_feat.toarray()\n",
    "    if(dense[0].sum()==0.0):\n",
    "        lab = \"None\"\n",
    "        prob = 1.0\n",
    "        return lab, prob\n",
    "    result = loaded_model.predict(x_feat)\n",
    "    result = label_encoder.inverse_transform(result)\n",
    "    class_probabilities = loaded_model.predict_proba(x_feat)[0]\n",
    "\n",
    "    prob_per_class_dictionary = dict(zip(label_encoder.classes_, class_probabilities))\n",
    "    lab=result[0]\n",
    "    prob = prob_per_class_dictionary.get(lab)\n",
    "\n",
    "    return lab,prob\n",
    "\n",
    "\n",
    "def read_config(configfile):\n",
    "    configdict = {}\n",
    "    with open(configfile, 'rU') as f:\n",
    "        for line in f:\n",
    "            line = line.strip()\n",
    "            if (line == \"\"):\n",
    "                continue\n",
    "            row = line.split(\"=\")\n",
    "            configdict[row[0]] = row[1]\n",
    "    return configdict\n",
    "\n",
    "def load_models(config_dictionary):\n",
    "\n",
    "    # Load from file\n",
    "    with open(config_dictionary[\"model_file\"], 'rb') as file:\n",
    "        loaded_model = pickle.load(file)\n",
    "\n",
    "    tokenizer_file = config_dictionary[\"tokenizer_file\"]\n",
    "    label_encoder_file = config_dictionary[\"label_encoder_file\"]\n",
    "\n",
    "    # loading tokenizer\n",
    "    with open(tokenizer_file, 'rb') as handle:\n",
    "        tokenizer = pickle.load(handle)\n",
    "\n",
    "    # loading label_encoder\n",
    "    with open(label_encoder_file, 'rb') as handle:\n",
    "        label_encoder = pickle.load(handle)\n",
    "\n",
    "    return loaded_model, tokenizer, label_encoder\n",
    "\n",
    "\n",
    "config_file_name=\"/content/model/sentiment_data.config\"\n",
    "config_dictionary = read_config(config_file_name)    \n",
    "loaded_model, tokenizer, label_encoder = load_models(config_dictionary)"
   ]
  },
  {
   "cell_type": "markdown",
   "id": "92f5c8e4-0c99-49c8-b744-76ebed23b2f2",
   "metadata": {},
   "source": [
    "## Module 5"
   ]
  },
  {
   "cell_type": "code",
   "execution_count": null,
   "id": "6c8b5c0d-f6ea-454a-be51-488a886cac29",
   "metadata": {},
   "outputs": [],
   "source": []
  }
 ],
 "metadata": {
  "kernelspec": {
   "display_name": "Python 3 (ipykernel)",
   "language": "python",
   "name": "python3"
  },
  "language_info": {
   "codemirror_mode": {
    "name": "ipython",
    "version": 3
   },
   "file_extension": ".py",
   "mimetype": "text/x-python",
   "name": "python",
   "nbconvert_exporter": "python",
   "pygments_lexer": "ipython3",
   "version": "3.9.7"
  }
 },
 "nbformat": 4,
 "nbformat_minor": 5
}

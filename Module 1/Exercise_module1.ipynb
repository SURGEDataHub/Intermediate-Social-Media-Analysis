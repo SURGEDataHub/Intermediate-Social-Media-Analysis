{
 "cells": [
  {
   "cell_type": "markdown",
   "metadata": {
    "id": "WjKylcyd42fF"
   },
   "source": [
    "# Basic Python Refresh"
   ]
  },
  {
   "cell_type": "markdown",
   "metadata": {
    "id": "p9rFwQiDu6hB"
   },
   "source": [
    "This first exercise code aims to review the basic functions to analyze a database. \n",
    "<br> Social media text information are often provided as a database where every row corresponds to a different text (tweet or post) and the columns to the attributes associated with that text (author username, date, location etc...). "
   ]
  },
  {
   "cell_type": "markdown",
   "metadata": {
    "id": "Nn4jvQIp48cV"
   },
   "source": [
    "First of all, we need to import the necessary libraries."
   ]
  },
  {
   "cell_type": "code",
   "execution_count": 1,
   "metadata": {
    "id": "Txx8HZJb3aiO"
   },
   "outputs": [],
   "source": [
    "import pandas as pd\n",
    "import numpy as np\n",
    "import matplotlib.pyplot as plt\n",
    "\n",
    "from ast import literal_eval"
   ]
  },
  {
   "cell_type": "markdown",
   "metadata": {
    "id": "DzE7Vebg5dFM"
   },
   "source": [
    "Then we need to connect this code with a Drive folder where the data are stored."
   ]
  },
  {
   "cell_type": "markdown",
   "metadata": {
    "id": "sPXb09k57UBk"
   },
   "source": [
    "The file we are going to use is a CSV. We use the Pandas function read_csv to open it. These tweets are collected using Twitter API and a Python script. A query for this high-frequency hashtag (#covid19) is run on a daily basis for a certain time period, to collect a larger number of tweets samples. (Data source: https://www.kaggle.com/datasets/gpreda/covid19-tweets?resource=download)"
   ]
  },
  {
   "cell_type": "code",
   "execution_count": 9,
   "metadata": {},
   "outputs": [],
   "source": [
    "url = 'https://raw.githubusercontent.com/SURGEDataHub/Intermediate-Social-Media-Analysis/main/Module%201/covid19_tweets.csv'\n",
    "df = pd.read_csv(url)"
   ]
  },
  {
   "cell_type": "markdown",
   "metadata": {
    "id": "h9rlQ3AZ7oAh"
   },
   "source": [
    "Then we take a look at the first 10 lines of data of this database: each row corresponds to a tweet and provides information about user name, location, number of friends and followers, date, text of the tweet, hashtags, source, and if it is a retweet."
   ]
  },
  {
   "cell_type": "code",
   "execution_count": 10,
   "metadata": {
    "colab": {
     "base_uri": "https://localhost:8080/"
    },
    "id": "_3eLYyoSXuEG",
    "outputId": "2a9399b1-a2c3-4470-d4ed-09150098ac31"
   },
   "outputs": [
    {
     "name": "stdout",
     "output_type": "stream",
     "text": [
      "<class 'pandas.core.frame.DataFrame'>\n",
      "RangeIndex: 179108 entries, 0 to 179107\n",
      "Data columns (total 13 columns):\n",
      " #   Column            Non-Null Count   Dtype \n",
      "---  ------            --------------   ----- \n",
      " 0   user_name         179108 non-null  object\n",
      " 1   user_location     142337 non-null  object\n",
      " 2   user_description  168822 non-null  object\n",
      " 3   user_created      179108 non-null  object\n",
      " 4   user_followers    179108 non-null  int64 \n",
      " 5   user_friends      179108 non-null  int64 \n",
      " 6   user_favourites   179108 non-null  int64 \n",
      " 7   user_verified     179108 non-null  bool  \n",
      " 8   date              179108 non-null  object\n",
      " 9   text              179108 non-null  object\n",
      " 10  hashtags          127774 non-null  object\n",
      " 11  source            179031 non-null  object\n",
      " 12  is_retweet        179108 non-null  bool  \n",
      "dtypes: bool(2), int64(3), object(8)\n",
      "memory usage: 15.4+ MB\n"
     ]
    }
   ],
   "source": [
    "df.info()"
   ]
  },
  {
   "cell_type": "code",
   "execution_count": 11,
   "metadata": {
    "colab": {
     "base_uri": "https://localhost:8080/",
     "height": 771
    },
    "id": "9bL9v83d47T2",
    "outputId": "e4db4dc1-8d30-497e-c981-f9cd41e17076"
   },
   "outputs": [
    {
     "data": {
      "text/html": [
       "<div>\n",
       "<style scoped>\n",
       "    .dataframe tbody tr th:only-of-type {\n",
       "        vertical-align: middle;\n",
       "    }\n",
       "\n",
       "    .dataframe tbody tr th {\n",
       "        vertical-align: top;\n",
       "    }\n",
       "\n",
       "    .dataframe thead th {\n",
       "        text-align: right;\n",
       "    }\n",
       "</style>\n",
       "<table border=\"1\" class=\"dataframe\">\n",
       "  <thead>\n",
       "    <tr style=\"text-align: right;\">\n",
       "      <th></th>\n",
       "      <th>user_name</th>\n",
       "      <th>user_location</th>\n",
       "      <th>user_description</th>\n",
       "      <th>user_created</th>\n",
       "      <th>user_followers</th>\n",
       "      <th>user_friends</th>\n",
       "      <th>user_favourites</th>\n",
       "      <th>user_verified</th>\n",
       "      <th>date</th>\n",
       "      <th>text</th>\n",
       "      <th>hashtags</th>\n",
       "      <th>source</th>\n",
       "      <th>is_retweet</th>\n",
       "    </tr>\n",
       "  </thead>\n",
       "  <tbody>\n",
       "    <tr>\n",
       "      <th>0</th>\n",
       "      <td>ᏉᎥ☻լꂅϮ</td>\n",
       "      <td>astroworld</td>\n",
       "      <td>wednesday addams as a disney princess keepin i...</td>\n",
       "      <td>2017-05-26 05:46:42</td>\n",
       "      <td>624</td>\n",
       "      <td>950</td>\n",
       "      <td>18775</td>\n",
       "      <td>False</td>\n",
       "      <td>2020-07-25 12:27:21</td>\n",
       "      <td>If I smelled the scent of hand sanitizers toda...</td>\n",
       "      <td>NaN</td>\n",
       "      <td>Twitter for iPhone</td>\n",
       "      <td>False</td>\n",
       "    </tr>\n",
       "    <tr>\n",
       "      <th>1</th>\n",
       "      <td>Tom Basile 🇺🇸</td>\n",
       "      <td>New York, NY</td>\n",
       "      <td>Husband, Father, Columnist &amp; Commentator. Auth...</td>\n",
       "      <td>2009-04-16 20:06:23</td>\n",
       "      <td>2253</td>\n",
       "      <td>1677</td>\n",
       "      <td>24</td>\n",
       "      <td>True</td>\n",
       "      <td>2020-07-25 12:27:17</td>\n",
       "      <td>Hey @Yankees @YankeesPR and @MLB - wouldn't it...</td>\n",
       "      <td>NaN</td>\n",
       "      <td>Twitter for Android</td>\n",
       "      <td>False</td>\n",
       "    </tr>\n",
       "    <tr>\n",
       "      <th>2</th>\n",
       "      <td>Time4fisticuffs</td>\n",
       "      <td>Pewee Valley, KY</td>\n",
       "      <td>#Christian #Catholic #Conservative #Reagan #Re...</td>\n",
       "      <td>2009-02-28 18:57:41</td>\n",
       "      <td>9275</td>\n",
       "      <td>9525</td>\n",
       "      <td>7254</td>\n",
       "      <td>False</td>\n",
       "      <td>2020-07-25 12:27:14</td>\n",
       "      <td>@diane3443 @wdunlap @realDonaldTrump Trump nev...</td>\n",
       "      <td>['COVID19']</td>\n",
       "      <td>Twitter for Android</td>\n",
       "      <td>False</td>\n",
       "    </tr>\n",
       "    <tr>\n",
       "      <th>3</th>\n",
       "      <td>ethel mertz</td>\n",
       "      <td>Stuck in the Middle</td>\n",
       "      <td>#Browns #Indians #ClevelandProud #[]_[] #Cavs ...</td>\n",
       "      <td>2019-03-07 01:45:06</td>\n",
       "      <td>197</td>\n",
       "      <td>987</td>\n",
       "      <td>1488</td>\n",
       "      <td>False</td>\n",
       "      <td>2020-07-25 12:27:10</td>\n",
       "      <td>@brookbanktv The one gift #COVID19 has give me...</td>\n",
       "      <td>['COVID19']</td>\n",
       "      <td>Twitter for iPhone</td>\n",
       "      <td>False</td>\n",
       "    </tr>\n",
       "    <tr>\n",
       "      <th>4</th>\n",
       "      <td>DIPR-J&amp;K</td>\n",
       "      <td>Jammu and Kashmir</td>\n",
       "      <td>🖊️Official Twitter handle of Department of Inf...</td>\n",
       "      <td>2017-02-12 06:45:15</td>\n",
       "      <td>101009</td>\n",
       "      <td>168</td>\n",
       "      <td>101</td>\n",
       "      <td>False</td>\n",
       "      <td>2020-07-25 12:27:08</td>\n",
       "      <td>25 July : Media Bulletin on Novel #CoronaVirus...</td>\n",
       "      <td>['CoronaVirusUpdates', 'COVID19']</td>\n",
       "      <td>Twitter for Android</td>\n",
       "      <td>False</td>\n",
       "    </tr>\n",
       "    <tr>\n",
       "      <th>5</th>\n",
       "      <td>🎹 Franz Schubert</td>\n",
       "      <td>Новоро́ссия</td>\n",
       "      <td>🎼  #Новоро́ссия #Novorossiya #оставайсядома #S...</td>\n",
       "      <td>2018-03-19 16:29:52</td>\n",
       "      <td>1180</td>\n",
       "      <td>1071</td>\n",
       "      <td>1287</td>\n",
       "      <td>False</td>\n",
       "      <td>2020-07-25 12:27:06</td>\n",
       "      <td>#coronavirus #covid19 deaths continue to rise....</td>\n",
       "      <td>['coronavirus', 'covid19']</td>\n",
       "      <td>Twitter Web App</td>\n",
       "      <td>False</td>\n",
       "    </tr>\n",
       "    <tr>\n",
       "      <th>6</th>\n",
       "      <td>hr bartender</td>\n",
       "      <td>Gainesville, FL</td>\n",
       "      <td>Workplace tips and advice served up in a frien...</td>\n",
       "      <td>2008-08-12 18:19:49</td>\n",
       "      <td>79956</td>\n",
       "      <td>54810</td>\n",
       "      <td>3801</td>\n",
       "      <td>False</td>\n",
       "      <td>2020-07-25 12:27:03</td>\n",
       "      <td>How #COVID19 Will Change Work in General (and ...</td>\n",
       "      <td>['COVID19', 'Recruiting']</td>\n",
       "      <td>Buffer</td>\n",
       "      <td>False</td>\n",
       "    </tr>\n",
       "    <tr>\n",
       "      <th>7</th>\n",
       "      <td>Derbyshire LPC</td>\n",
       "      <td>NaN</td>\n",
       "      <td>NaN</td>\n",
       "      <td>2012-02-03 18:08:10</td>\n",
       "      <td>608</td>\n",
       "      <td>355</td>\n",
       "      <td>95</td>\n",
       "      <td>False</td>\n",
       "      <td>2020-07-25 12:27:00</td>\n",
       "      <td>You now have to wear face coverings when out s...</td>\n",
       "      <td>NaN</td>\n",
       "      <td>TweetDeck</td>\n",
       "      <td>False</td>\n",
       "    </tr>\n",
       "    <tr>\n",
       "      <th>8</th>\n",
       "      <td>Prathamesh Bendre</td>\n",
       "      <td>NaN</td>\n",
       "      <td>A poet, reiki practitioner and a student of law.</td>\n",
       "      <td>2015-04-25 08:15:41</td>\n",
       "      <td>25</td>\n",
       "      <td>29</td>\n",
       "      <td>18</td>\n",
       "      <td>False</td>\n",
       "      <td>2020-07-25 12:26:59</td>\n",
       "      <td>Praying for good health and recovery of @Chouh...</td>\n",
       "      <td>['covid19', 'covidPositive']</td>\n",
       "      <td>Twitter for Android</td>\n",
       "      <td>False</td>\n",
       "    </tr>\n",
       "    <tr>\n",
       "      <th>9</th>\n",
       "      <td>Member of Christ 🇨🇳🇺🇸🇮🇳🇮🇩🇧🇷🇳🇬🇧🇩🇷🇺</td>\n",
       "      <td>👇🏻location at link below👇🏻</td>\n",
       "      <td>Just as the body is one &amp; has many members, &amp; ...</td>\n",
       "      <td>2014-08-17 04:53:22</td>\n",
       "      <td>55201</td>\n",
       "      <td>34239</td>\n",
       "      <td>29802</td>\n",
       "      <td>False</td>\n",
       "      <td>2020-07-25 12:26:54</td>\n",
       "      <td>POPE AS GOD - Prophet Sadhu Sundar Selvaraj. W...</td>\n",
       "      <td>['HurricaneHanna', 'COVID19']</td>\n",
       "      <td>Twitter for iPhone</td>\n",
       "      <td>False</td>\n",
       "    </tr>\n",
       "  </tbody>\n",
       "</table>\n",
       "</div>"
      ],
      "text/plain": [
       "                           user_name               user_location  \\\n",
       "0                             ᏉᎥ☻լꂅϮ                  astroworld   \n",
       "1                      Tom Basile 🇺🇸                New York, NY   \n",
       "2                    Time4fisticuffs            Pewee Valley, KY   \n",
       "3                        ethel mertz        Stuck in the Middle    \n",
       "4                           DIPR-J&K           Jammu and Kashmir   \n",
       "5                   🎹 Franz Schubert                 Новоро́ссия   \n",
       "6                       hr bartender             Gainesville, FL   \n",
       "7                     Derbyshire LPC                         NaN   \n",
       "8                  Prathamesh Bendre                         NaN   \n",
       "9  Member of Christ 🇨🇳🇺🇸🇮🇳🇮🇩🇧🇷🇳🇬🇧🇩🇷🇺  👇🏻location at link below👇🏻   \n",
       "\n",
       "                                    user_description         user_created  \\\n",
       "0  wednesday addams as a disney princess keepin i...  2017-05-26 05:46:42   \n",
       "1  Husband, Father, Columnist & Commentator. Auth...  2009-04-16 20:06:23   \n",
       "2  #Christian #Catholic #Conservative #Reagan #Re...  2009-02-28 18:57:41   \n",
       "3  #Browns #Indians #ClevelandProud #[]_[] #Cavs ...  2019-03-07 01:45:06   \n",
       "4  🖊️Official Twitter handle of Department of Inf...  2017-02-12 06:45:15   \n",
       "5  🎼  #Новоро́ссия #Novorossiya #оставайсядома #S...  2018-03-19 16:29:52   \n",
       "6  Workplace tips and advice served up in a frien...  2008-08-12 18:19:49   \n",
       "7                                                NaN  2012-02-03 18:08:10   \n",
       "8   A poet, reiki practitioner and a student of law.  2015-04-25 08:15:41   \n",
       "9  Just as the body is one & has many members, & ...  2014-08-17 04:53:22   \n",
       "\n",
       "   user_followers  user_friends  user_favourites  user_verified  \\\n",
       "0             624           950            18775          False   \n",
       "1            2253          1677               24           True   \n",
       "2            9275          9525             7254          False   \n",
       "3             197           987             1488          False   \n",
       "4          101009           168              101          False   \n",
       "5            1180          1071             1287          False   \n",
       "6           79956         54810             3801          False   \n",
       "7             608           355               95          False   \n",
       "8              25            29               18          False   \n",
       "9           55201         34239            29802          False   \n",
       "\n",
       "                  date                                               text  \\\n",
       "0  2020-07-25 12:27:21  If I smelled the scent of hand sanitizers toda...   \n",
       "1  2020-07-25 12:27:17  Hey @Yankees @YankeesPR and @MLB - wouldn't it...   \n",
       "2  2020-07-25 12:27:14  @diane3443 @wdunlap @realDonaldTrump Trump nev...   \n",
       "3  2020-07-25 12:27:10  @brookbanktv The one gift #COVID19 has give me...   \n",
       "4  2020-07-25 12:27:08  25 July : Media Bulletin on Novel #CoronaVirus...   \n",
       "5  2020-07-25 12:27:06  #coronavirus #covid19 deaths continue to rise....   \n",
       "6  2020-07-25 12:27:03  How #COVID19 Will Change Work in General (and ...   \n",
       "7  2020-07-25 12:27:00  You now have to wear face coverings when out s...   \n",
       "8  2020-07-25 12:26:59  Praying for good health and recovery of @Chouh...   \n",
       "9  2020-07-25 12:26:54  POPE AS GOD - Prophet Sadhu Sundar Selvaraj. W...   \n",
       "\n",
       "                            hashtags               source  is_retweet  \n",
       "0                                NaN   Twitter for iPhone       False  \n",
       "1                                NaN  Twitter for Android       False  \n",
       "2                        ['COVID19']  Twitter for Android       False  \n",
       "3                        ['COVID19']   Twitter for iPhone       False  \n",
       "4  ['CoronaVirusUpdates', 'COVID19']  Twitter for Android       False  \n",
       "5         ['coronavirus', 'covid19']      Twitter Web App       False  \n",
       "6          ['COVID19', 'Recruiting']               Buffer       False  \n",
       "7                                NaN            TweetDeck       False  \n",
       "8       ['covid19', 'covidPositive']  Twitter for Android       False  \n",
       "9      ['HurricaneHanna', 'COVID19']   Twitter for iPhone       False  "
      ]
     },
     "execution_count": 11,
     "metadata": {},
     "output_type": "execute_result"
    }
   ],
   "source": [
    "df.head(10)"
   ]
  },
  {
   "cell_type": "markdown",
   "metadata": {
    "id": "I0hziQxKAM9n"
   },
   "source": [
    "## Querying\n",
    "We can then filter this data. For example, (1) we can take all tweets only of those users that live in New York. Since some location say \"New York, NY\" and others \"New York, NY USA\" or just \"New York, we need to find all location that contain the words *New York*."
   ]
  },
  {
   "cell_type": "code",
   "execution_count": 12,
   "metadata": {
    "colab": {
     "base_uri": "https://localhost:8080/",
     "height": 424
    },
    "id": "257NgINF7v7i",
    "outputId": "9cae1d37-6ea0-4f55-bbd8-e14a5cd15ff5"
   },
   "outputs": [
    {
     "data": {
      "text/html": [
       "<div>\n",
       "<style scoped>\n",
       "    .dataframe tbody tr th:only-of-type {\n",
       "        vertical-align: middle;\n",
       "    }\n",
       "\n",
       "    .dataframe tbody tr th {\n",
       "        vertical-align: top;\n",
       "    }\n",
       "\n",
       "    .dataframe thead th {\n",
       "        text-align: right;\n",
       "    }\n",
       "</style>\n",
       "<table border=\"1\" class=\"dataframe\">\n",
       "  <thead>\n",
       "    <tr style=\"text-align: right;\">\n",
       "      <th></th>\n",
       "      <th>user_name</th>\n",
       "      <th>user_location</th>\n",
       "      <th>user_description</th>\n",
       "      <th>user_created</th>\n",
       "      <th>user_followers</th>\n",
       "      <th>user_friends</th>\n",
       "      <th>user_favourites</th>\n",
       "      <th>user_verified</th>\n",
       "      <th>date</th>\n",
       "      <th>text</th>\n",
       "      <th>hashtags</th>\n",
       "      <th>source</th>\n",
       "      <th>is_retweet</th>\n",
       "    </tr>\n",
       "  </thead>\n",
       "  <tbody>\n",
       "    <tr>\n",
       "      <th>1</th>\n",
       "      <td>Tom Basile 🇺🇸</td>\n",
       "      <td>New York, NY</td>\n",
       "      <td>Husband, Father, Columnist &amp; Commentator. Auth...</td>\n",
       "      <td>2009-04-16 20:06:23</td>\n",
       "      <td>2253</td>\n",
       "      <td>1677</td>\n",
       "      <td>24</td>\n",
       "      <td>True</td>\n",
       "      <td>2020-07-25 12:27:17</td>\n",
       "      <td>Hey @Yankees @YankeesPR and @MLB - wouldn't it...</td>\n",
       "      <td>NaN</td>\n",
       "      <td>Twitter for Android</td>\n",
       "      <td>False</td>\n",
       "    </tr>\n",
       "    <tr>\n",
       "      <th>66</th>\n",
       "      <td>Matty A</td>\n",
       "      <td>New York, NY USA</td>\n",
       "      <td>🇺🇸  Happily Married &amp; a Proud Son of a U.S Nav...</td>\n",
       "      <td>2014-02-01 21:44:37</td>\n",
       "      <td>3924</td>\n",
       "      <td>4487</td>\n",
       "      <td>93575</td>\n",
       "      <td>False</td>\n",
       "      <td>2020-07-25 12:25:20</td>\n",
       "      <td>See this Instagram post by @facts.covid19 http...</td>\n",
       "      <td>NaN</td>\n",
       "      <td>Twitter Web App</td>\n",
       "      <td>False</td>\n",
       "    </tr>\n",
       "    <tr>\n",
       "      <th>107</th>\n",
       "      <td>Dr. Miguel Escalon</td>\n",
       "      <td>New York, NY</td>\n",
       "      <td>Miguel Escalon, MD, MPH: Vice Chair, Director ...</td>\n",
       "      <td>2017-10-16 19:50:59</td>\n",
       "      <td>1299</td>\n",
       "      <td>994</td>\n",
       "      <td>2743</td>\n",
       "      <td>False</td>\n",
       "      <td>2020-07-25 12:24:05</td>\n",
       "      <td>#coronavirus #COVID19 disproportionately affec...</td>\n",
       "      <td>['coronavirus', 'COVID19', 'Hispanic', 'Latinx']</td>\n",
       "      <td>Twitter for iPhone</td>\n",
       "      <td>False</td>\n",
       "    </tr>\n",
       "    <tr>\n",
       "      <th>131</th>\n",
       "      <td>Jessica Roland</td>\n",
       "      <td>New York, NY</td>\n",
       "      <td>Policy &amp; Advocacy @WomenDeliver | @FletcherSch...</td>\n",
       "      <td>2015-05-20 18:20:41</td>\n",
       "      <td>2314</td>\n",
       "      <td>1923</td>\n",
       "      <td>12908</td>\n",
       "      <td>False</td>\n",
       "      <td>2020-07-25 12:23:24</td>\n",
       "      <td>\"Think-piece on Gender and Climate Change in t...</td>\n",
       "      <td>['COVID19']</td>\n",
       "      <td>Twitter Web App</td>\n",
       "      <td>False</td>\n",
       "    </tr>\n",
       "    <tr>\n",
       "      <th>169</th>\n",
       "      <td>Christine Murphy Estes, MM, MA, CCC-SLP</td>\n",
       "      <td>New York, NY</td>\n",
       "      <td>Speech-Language Pathologist, Voice Specialist,...</td>\n",
       "      <td>2018-10-07 02:31:06</td>\n",
       "      <td>622</td>\n",
       "      <td>1220</td>\n",
       "      <td>1121</td>\n",
       "      <td>False</td>\n",
       "      <td>2020-07-25 12:21:51</td>\n",
       "      <td>Your friendly weekend reminder that COVID didn...</td>\n",
       "      <td>['wearamask', 'covid', 'covid19']</td>\n",
       "      <td>Twitter for iPhone</td>\n",
       "      <td>False</td>\n",
       "    </tr>\n",
       "  </tbody>\n",
       "</table>\n",
       "</div>"
      ],
      "text/plain": [
       "                                   user_name     user_location  \\\n",
       "1                              Tom Basile 🇺🇸      New York, NY   \n",
       "66                                   Matty A  New York, NY USA   \n",
       "107                       Dr. Miguel Escalon      New York, NY   \n",
       "131                           Jessica Roland      New York, NY   \n",
       "169  Christine Murphy Estes, MM, MA, CCC-SLP      New York, NY   \n",
       "\n",
       "                                      user_description         user_created  \\\n",
       "1    Husband, Father, Columnist & Commentator. Auth...  2009-04-16 20:06:23   \n",
       "66   🇺🇸  Happily Married & a Proud Son of a U.S Nav...  2014-02-01 21:44:37   \n",
       "107  Miguel Escalon, MD, MPH: Vice Chair, Director ...  2017-10-16 19:50:59   \n",
       "131  Policy & Advocacy @WomenDeliver | @FletcherSch...  2015-05-20 18:20:41   \n",
       "169  Speech-Language Pathologist, Voice Specialist,...  2018-10-07 02:31:06   \n",
       "\n",
       "     user_followers  user_friends  user_favourites  user_verified  \\\n",
       "1              2253          1677               24           True   \n",
       "66             3924          4487            93575          False   \n",
       "107            1299           994             2743          False   \n",
       "131            2314          1923            12908          False   \n",
       "169             622          1220             1121          False   \n",
       "\n",
       "                    date                                               text  \\\n",
       "1    2020-07-25 12:27:17  Hey @Yankees @YankeesPR and @MLB - wouldn't it...   \n",
       "66   2020-07-25 12:25:20  See this Instagram post by @facts.covid19 http...   \n",
       "107  2020-07-25 12:24:05  #coronavirus #COVID19 disproportionately affec...   \n",
       "131  2020-07-25 12:23:24  \"Think-piece on Gender and Climate Change in t...   \n",
       "169  2020-07-25 12:21:51  Your friendly weekend reminder that COVID didn...   \n",
       "\n",
       "                                             hashtags               source  \\\n",
       "1                                                 NaN  Twitter for Android   \n",
       "66                                                NaN      Twitter Web App   \n",
       "107  ['coronavirus', 'COVID19', 'Hispanic', 'Latinx']   Twitter for iPhone   \n",
       "131                                       ['COVID19']      Twitter Web App   \n",
       "169                 ['wearamask', 'covid', 'covid19']   Twitter for iPhone   \n",
       "\n",
       "     is_retweet  \n",
       "1         False  \n",
       "66        False  \n",
       "107       False  \n",
       "131       False  \n",
       "169       False  "
      ]
     },
     "execution_count": 12,
     "metadata": {},
     "output_type": "execute_result"
    }
   ],
   "source": [
    "df.loc[df['user_location'].str.contains('New York', regex=False, na=False)].head()"
   ]
  },
  {
   "cell_type": "markdown",
   "metadata": {
    "id": "8ir-meseEN8Q"
   },
   "source": [
    "Or, (2) we can select only tweets of users with more than 1,000,000 followers.\n",
    "\n",
    "\n",
    "---\n",
    "\n"
   ]
  },
  {
   "cell_type": "code",
   "execution_count": 13,
   "metadata": {
    "colab": {
     "base_uri": "https://localhost:8080/",
     "height": 406
    },
    "id": "SrSHurRCEG1d",
    "outputId": "a5f7d463-943a-43d7-a796-275bb78c5632"
   },
   "outputs": [
    {
     "data": {
      "text/html": [
       "<div>\n",
       "<style scoped>\n",
       "    .dataframe tbody tr th:only-of-type {\n",
       "        vertical-align: middle;\n",
       "    }\n",
       "\n",
       "    .dataframe tbody tr th {\n",
       "        vertical-align: top;\n",
       "    }\n",
       "\n",
       "    .dataframe thead th {\n",
       "        text-align: right;\n",
       "    }\n",
       "</style>\n",
       "<table border=\"1\" class=\"dataframe\">\n",
       "  <thead>\n",
       "    <tr style=\"text-align: right;\">\n",
       "      <th></th>\n",
       "      <th>user_name</th>\n",
       "      <th>user_location</th>\n",
       "      <th>user_description</th>\n",
       "      <th>user_created</th>\n",
       "      <th>user_followers</th>\n",
       "      <th>user_friends</th>\n",
       "      <th>user_favourites</th>\n",
       "      <th>user_verified</th>\n",
       "      <th>date</th>\n",
       "      <th>text</th>\n",
       "      <th>hashtags</th>\n",
       "      <th>source</th>\n",
       "      <th>is_retweet</th>\n",
       "    </tr>\n",
       "  </thead>\n",
       "  <tbody>\n",
       "    <tr>\n",
       "      <th>25</th>\n",
       "      <td>Blood Donors India</td>\n",
       "      <td>Mumbai, India</td>\n",
       "      <td>Focused on matching blood donors with those in...</td>\n",
       "      <td>2008-12-23 07:55:39</td>\n",
       "      <td>1215920</td>\n",
       "      <td>2047</td>\n",
       "      <td>19359</td>\n",
       "      <td>True</td>\n",
       "      <td>2020-07-25 12:26:26</td>\n",
       "      <td>#Kolar\\nNeed #Blood Type :  B-positive\\nAt : J...</td>\n",
       "      <td>['Kolar', 'Blood', 'COVID19']</td>\n",
       "      <td>Blood Donors India</td>\n",
       "      <td>False</td>\n",
       "    </tr>\n",
       "    <tr>\n",
       "      <th>77</th>\n",
       "      <td>IMF</td>\n",
       "      <td>Washington, DC</td>\n",
       "      <td>Breaking news and alerts from the Internationa...</td>\n",
       "      <td>2009-03-18 16:13:51</td>\n",
       "      <td>1695520</td>\n",
       "      <td>444</td>\n",
       "      <td>182</td>\n",
       "      <td>True</td>\n",
       "      <td>2020-07-25 12:25:02</td>\n",
       "      <td>What economic measures are governments taking ...</td>\n",
       "      <td>['COVID19']</td>\n",
       "      <td>Hootsuite Inc.</td>\n",
       "      <td>False</td>\n",
       "    </tr>\n",
       "    <tr>\n",
       "      <th>120</th>\n",
       "      <td>Livemint</td>\n",
       "      <td>India</td>\n",
       "      <td>Breaking news and analyses of Indian and world...</td>\n",
       "      <td>2008-11-27 09:07:38</td>\n",
       "      <td>1902888</td>\n",
       "      <td>117</td>\n",
       "      <td>472</td>\n",
       "      <td>True</td>\n",
       "      <td>2020-07-25 12:23:44</td>\n",
       "      <td>Bihar witnesses biggest single-day spike of 2,...</td>\n",
       "      <td>['Covid19']</td>\n",
       "      <td>Twitter Web App</td>\n",
       "      <td>False</td>\n",
       "    </tr>\n",
       "    <tr>\n",
       "      <th>208</th>\n",
       "      <td>Business Standard</td>\n",
       "      <td>India</td>\n",
       "      <td>Latest updates #news #LIVE coverage on #econom...</td>\n",
       "      <td>2009-06-01 08:52:08</td>\n",
       "      <td>1969497</td>\n",
       "      <td>380</td>\n",
       "      <td>140</td>\n",
       "      <td>True</td>\n",
       "      <td>2020-07-25 12:20:41</td>\n",
       "      <td>From more than 1,000 deaths in the US, fourth ...</td>\n",
       "      <td>NaN</td>\n",
       "      <td>TweetDeck</td>\n",
       "      <td>False</td>\n",
       "    </tr>\n",
       "    <tr>\n",
       "      <th>235</th>\n",
       "      <td>CGTN</td>\n",
       "      <td>Beijing, China</td>\n",
       "      <td>#SeeTheDifference with CGTN as we bring you st...</td>\n",
       "      <td>2013-01-24 03:18:59</td>\n",
       "      <td>13892795</td>\n",
       "      <td>69</td>\n",
       "      <td>104</td>\n",
       "      <td>True</td>\n",
       "      <td>2020-07-25 12:20:00</td>\n",
       "      <td>#APEC reaffirms #COVID19 economic recovery pri...</td>\n",
       "      <td>['APEC', 'COVID19']</td>\n",
       "      <td>TweetDeck</td>\n",
       "      <td>False</td>\n",
       "    </tr>\n",
       "  </tbody>\n",
       "</table>\n",
       "</div>"
      ],
      "text/plain": [
       "              user_name   user_location  \\\n",
       "25   Blood Donors India   Mumbai, India   \n",
       "77                  IMF  Washington, DC   \n",
       "120            Livemint           India   \n",
       "208   Business Standard           India   \n",
       "235                CGTN  Beijing, China   \n",
       "\n",
       "                                      user_description         user_created  \\\n",
       "25   Focused on matching blood donors with those in...  2008-12-23 07:55:39   \n",
       "77   Breaking news and alerts from the Internationa...  2009-03-18 16:13:51   \n",
       "120  Breaking news and analyses of Indian and world...  2008-11-27 09:07:38   \n",
       "208  Latest updates #news #LIVE coverage on #econom...  2009-06-01 08:52:08   \n",
       "235  #SeeTheDifference with CGTN as we bring you st...  2013-01-24 03:18:59   \n",
       "\n",
       "     user_followers  user_friends  user_favourites  user_verified  \\\n",
       "25          1215920          2047            19359           True   \n",
       "77          1695520           444              182           True   \n",
       "120         1902888           117              472           True   \n",
       "208         1969497           380              140           True   \n",
       "235        13892795            69              104           True   \n",
       "\n",
       "                    date                                               text  \\\n",
       "25   2020-07-25 12:26:26  #Kolar\\nNeed #Blood Type :  B-positive\\nAt : J...   \n",
       "77   2020-07-25 12:25:02  What economic measures are governments taking ...   \n",
       "120  2020-07-25 12:23:44  Bihar witnesses biggest single-day spike of 2,...   \n",
       "208  2020-07-25 12:20:41  From more than 1,000 deaths in the US, fourth ...   \n",
       "235  2020-07-25 12:20:00  #APEC reaffirms #COVID19 economic recovery pri...   \n",
       "\n",
       "                          hashtags              source  is_retweet  \n",
       "25   ['Kolar', 'Blood', 'COVID19']  Blood Donors India       False  \n",
       "77                     ['COVID19']      Hootsuite Inc.       False  \n",
       "120                    ['Covid19']     Twitter Web App       False  \n",
       "208                            NaN           TweetDeck       False  \n",
       "235            ['APEC', 'COVID19']           TweetDeck       False  "
      ]
     },
     "execution_count": 13,
     "metadata": {},
     "output_type": "execute_result"
    }
   ],
   "source": [
    "df[df['user_followers']>=1000000].head()"
   ]
  },
  {
   "cell_type": "markdown",
   "metadata": {
    "id": "JmFXI8NHGfhd"
   },
   "source": [
    "(3) We may want to know how many tweets come from different sources (Twitter Web App, Twitter for Android, Twitter for iPhone...) and show the 10 most frequent. To do so, we need to group by source name and count how many element are present in each group. Then we sort this list from the most frequent source to the les frequent and we show only the first 10. "
   ]
  },
  {
   "cell_type": "code",
   "execution_count": 14,
   "metadata": {
    "id": "7ryJmWKfT4HE"
   },
   "outputs": [],
   "source": [
    "df['id'] = df.index # we generate a column id equal to the index"
   ]
  },
  {
   "cell_type": "code",
   "execution_count": 15,
   "metadata": {
    "colab": {
     "base_uri": "https://localhost:8080/",
     "height": 394
    },
    "id": "XWqbxEpIEg5Y",
    "outputId": "bcc09958-e862-42d1-a488-26fecd2831cd"
   },
   "outputs": [
    {
     "data": {
      "text/html": [
       "<div>\n",
       "<style scoped>\n",
       "    .dataframe tbody tr th:only-of-type {\n",
       "        vertical-align: middle;\n",
       "    }\n",
       "\n",
       "    .dataframe tbody tr th {\n",
       "        vertical-align: top;\n",
       "    }\n",
       "\n",
       "    .dataframe thead th {\n",
       "        text-align: right;\n",
       "    }\n",
       "</style>\n",
       "<table border=\"1\" class=\"dataframe\">\n",
       "  <thead>\n",
       "    <tr style=\"text-align: right;\">\n",
       "      <th></th>\n",
       "      <th>id</th>\n",
       "    </tr>\n",
       "    <tr>\n",
       "      <th>source</th>\n",
       "      <th></th>\n",
       "    </tr>\n",
       "  </thead>\n",
       "  <tbody>\n",
       "    <tr>\n",
       "      <th>Twitter Web App</th>\n",
       "      <td>56891</td>\n",
       "    </tr>\n",
       "    <tr>\n",
       "      <th>Twitter for Android</th>\n",
       "      <td>40179</td>\n",
       "    </tr>\n",
       "    <tr>\n",
       "      <th>Twitter for iPhone</th>\n",
       "      <td>35472</td>\n",
       "    </tr>\n",
       "    <tr>\n",
       "      <th>TweetDeck</th>\n",
       "      <td>8543</td>\n",
       "    </tr>\n",
       "    <tr>\n",
       "      <th>Hootsuite Inc.</th>\n",
       "      <td>7321</td>\n",
       "    </tr>\n",
       "    <tr>\n",
       "      <th>Twitter for iPad</th>\n",
       "      <td>4336</td>\n",
       "    </tr>\n",
       "    <tr>\n",
       "      <th>Buffer</th>\n",
       "      <td>2728</td>\n",
       "    </tr>\n",
       "    <tr>\n",
       "      <th>Sprout Social</th>\n",
       "      <td>1833</td>\n",
       "    </tr>\n",
       "    <tr>\n",
       "      <th>Instagram</th>\n",
       "      <td>1759</td>\n",
       "    </tr>\n",
       "    <tr>\n",
       "      <th>IFTTT</th>\n",
       "      <td>1545</td>\n",
       "    </tr>\n",
       "  </tbody>\n",
       "</table>\n",
       "</div>"
      ],
      "text/plain": [
       "                        id\n",
       "source                    \n",
       "Twitter Web App      56891\n",
       "Twitter for Android  40179\n",
       "Twitter for iPhone   35472\n",
       "TweetDeck             8543\n",
       "Hootsuite Inc.        7321\n",
       "Twitter for iPad      4336\n",
       "Buffer                2728\n",
       "Sprout Social         1833\n",
       "Instagram             1759\n",
       "IFTTT                 1545"
      ]
     },
     "execution_count": 15,
     "metadata": {},
     "output_type": "execute_result"
    }
   ],
   "source": [
    "df2 = df.groupby(['source'])[['id']].count()   \n",
    "df2.sort_values(by=['id'], ascending=False).head(10)   # in df2 user_name contains the number of users by source"
   ]
  },
  {
   "cell_type": "markdown",
   "metadata": {
    "id": "WioDBTpqV1Ax"
   },
   "source": [
    "### Exercise 1\n",
    "Try now to find the 10 Twitter accounts that have published the largest number of tweets."
   ]
  },
  {
   "cell_type": "code",
   "execution_count": 3,
   "metadata": {
    "colab": {
     "base_uri": "https://localhost:8080/",
     "height": 394
    },
    "id": "WY3tq2wlUyki",
    "outputId": "a4f20fca-ed0b-4ae5-9e9c-88da74df3668"
   },
   "outputs": [],
   "source": [
    "# write here your code\n",
    "\n",
    "\n"
   ]
  },
  {
   "cell_type": "markdown",
   "metadata": {
    "id": "6uXL9TcPW0ku"
   },
   "source": [
    "(4) Select only tweets posted between July 26 and July 30 and visualize their distribution by number of followers in an histagram. To do so, first we select only those tweets that have date in the above range and then we show the distribution by number of followers, i.e., how many tweets have beween 0 and 500,000 followers, between 500,000 and 1,000,000 followers and so on."
   ]
  },
  {
   "cell_type": "code",
   "execution_count": null,
   "metadata": {
    "id": "NkGOC-UkW3uZ"
   },
   "outputs": [],
   "source": [
    "df2020 = df \n",
    "df2020['date'] = pd.to_datetime(df2020['date'])\n",
    "mask = (df2020['date'] > '2020-7-25') & (df2020['date'] <= '2020-7-30')\n",
    "df2020 = df2020.loc[mask]"
   ]
  },
  {
   "cell_type": "code",
   "execution_count": null,
   "metadata": {
    "colab": {
     "base_uri": "https://localhost:8080/",
     "height": 329
    },
    "id": "DS6zPLeNXKsX",
    "outputId": "7cccfebf-675e-40bc-edef-0cb8206c1352"
   },
   "outputs": [
    {
     "data": {
      "text/plain": [
       "array([[<matplotlib.axes._subplots.AxesSubplot object at 0x7f3754682210>]],\n",
       "      dtype=object)"
      ]
     },
     "execution_count": 15,
     "metadata": {},
     "output_type": "execute_result"
    },
    {
     "data": {
      "image/png": "[encoded data removed]",
      "text/plain": [
       "<Figure size 432x288 with 1 Axes>"
      ]
     },
     "metadata": {
      "needs_background": "light"
     },
     "output_type": "display_data"
    }
   ],
   "source": [
    "pd.DataFrame.hist(data=df2020, column='user_followers', bins=25)"
   ]
  },
  {
   "cell_type": "markdown",
   "metadata": {
    "id": "-cwC88rerSlW"
   },
   "source": [
    "Let's now select a subgroup of tweets and and count how frequenty they use an hashtag:\n",
    "- first we select all users in New York, that are verified and that have some hashtags in their tweets.\n",
    "- The ‘hashtags’ column consists of an array of hashtags separated by commas and wrapped in square brackets — looks just like a python list! Therefore, we can use the function *ast.literal_eval()* to convert the ‘tags’ column from string to list.\n",
    "- Then with the finction *explode()* we can explode the list to rows.\n",
    "- Finally we count the how many times any hashtag has been used and we visualize them in a bar chart.\n"
   ]
  },
  {
   "cell_type": "code",
   "execution_count": null,
   "metadata": {
    "id": "zWqbHSFumVqN"
   },
   "outputs": [],
   "source": [
    "df4 = df.loc[(df['user_location'].str.contains('New York', regex=False, na=False)) & (df['user_verified']==True) & ~(df['hashtags'].isna())]"
   ]
  },
  {
   "cell_type": "code",
   "execution_count": null,
   "metadata": {
    "colab": {
     "base_uri": "https://localhost:8080/"
    },
    "id": "zQJfTfGzrsWM",
    "outputId": "d47caf02-0407-4a69-db81-b22d73a6d52c"
   },
   "outputs": [
    {
     "name": "stderr",
     "output_type": "stream",
     "text": [
      "/usr/local/lib/python3.7/dist-packages/ipykernel_launcher.py:1: SettingWithCopyWarning: \n",
      "A value is trying to be set on a copy of a slice from a DataFrame.\n",
      "Try using .loc[row_indexer,col_indexer] = value instead\n",
      "\n",
      "See the caveats in the documentation: https://pandas.pydata.org/pandas-docs/stable/user_guide/indexing.html#returning-a-view-versus-a-copy\n",
      "  \"\"\"Entry point for launching an IPython kernel.\n"
     ]
    }
   ],
   "source": [
    "df4['hashtags'] = df4['hashtags'].apply(literal_eval)\n",
    "hashtags = df4.explode('hashtags')"
   ]
  },
  {
   "cell_type": "code",
   "execution_count": null,
   "metadata": {
    "colab": {
     "base_uri": "https://localhost:8080/",
     "height": 394
    },
    "id": "A2JFu4Zs-wqg",
    "outputId": "9b5b8c89-38da-49e5-a387-2128dc346732"
   },
   "outputs": [
    {
     "data": {
      "text/html": [
       "\n",
       "  <div id=\"df-e0585b88-1c49-412e-8243-c5a3ec7d8a56\">\n",
       "    <div class=\"colab-df-container\">\n",
       "      <div>\n",
       "<style scoped>\n",
       "    .dataframe tbody tr th:only-of-type {\n",
       "        vertical-align: middle;\n",
       "    }\n",
       "\n",
       "    .dataframe tbody tr th {\n",
       "        vertical-align: top;\n",
       "    }\n",
       "\n",
       "    .dataframe thead th {\n",
       "        text-align: right;\n",
       "    }\n",
       "</style>\n",
       "<table border=\"1\" class=\"dataframe\">\n",
       "  <thead>\n",
       "    <tr style=\"text-align: right;\">\n",
       "      <th></th>\n",
       "      <th>id</th>\n",
       "    </tr>\n",
       "    <tr>\n",
       "      <th>hashtags</th>\n",
       "      <th></th>\n",
       "    </tr>\n",
       "  </thead>\n",
       "  <tbody>\n",
       "    <tr>\n",
       "      <th>COVID19</th>\n",
       "      <td>250</td>\n",
       "    </tr>\n",
       "    <tr>\n",
       "      <th>coronavirus</th>\n",
       "      <td>26</td>\n",
       "    </tr>\n",
       "    <tr>\n",
       "      <th>covid19</th>\n",
       "      <td>23</td>\n",
       "    </tr>\n",
       "    <tr>\n",
       "      <th>Covid19</th>\n",
       "      <td>19</td>\n",
       "    </tr>\n",
       "    <tr>\n",
       "      <th>NYCTestandTrace</th>\n",
       "      <td>5</td>\n",
       "    </tr>\n",
       "    <tr>\n",
       "      <th>ICYMI</th>\n",
       "      <td>4</td>\n",
       "    </tr>\n",
       "    <tr>\n",
       "      <th>NYC</th>\n",
       "      <td>4</td>\n",
       "    </tr>\n",
       "    <tr>\n",
       "      <th>pandemic</th>\n",
       "      <td>4</td>\n",
       "    </tr>\n",
       "    <tr>\n",
       "      <th>Lebanon</th>\n",
       "      <td>3</td>\n",
       "    </tr>\n",
       "    <tr>\n",
       "      <th>Trump</th>\n",
       "      <td>3</td>\n",
       "    </tr>\n",
       "  </tbody>\n",
       "</table>\n",
       "</div>\n",
       "      <button class=\"colab-df-convert\" onclick=\"convertToInteractive('df-e0585b88-1c49-412e-8243-c5a3ec7d8a56')\"\n",
       "              title=\"Convert this dataframe to an interactive table.\"\n",
       "              style=\"display:none;\">\n",
       "        \n",
       "  <svg xmlns=\"http://www.w3.org/2000/svg\" height=\"24px\"viewBox=\"0 0 24 24\"\n",
       "       width=\"24px\">\n",
       "    <path d=\"M0 0h24v24H0V0z\" fill=\"none\"/>\n",
       "    <path d=\"M18.56 5.44l.94 2.06.94-2.06 2.06-.94-2.06-.94-.94-2.06-.94 2.06-2.06.94zm-11 1L8.5 8.5l.94-2.06 2.06-.94-2.06-.94L8.5 2.5l-.94 2.06-2.06.94zm10 10l.94 2.06.94-2.06 2.06-.94-2.06-.94-.94-2.06-.94 2.06-2.06.94z\"/><path d=\"M17.41 7.96l-1.37-1.37c-.4-.4-.92-.59-1.43-.59-.52 0-1.04.2-1.43.59L10.3 9.45l-7.72 7.72c-.78.78-.78 2.05 0 2.83L4 21.41c.39.39.9.59 1.41.59.51 0 1.02-.2 1.41-.59l7.78-7.78 2.81-2.81c.8-.78.8-2.07 0-2.86zM5.41 20L4 18.59l7.72-7.72 1.47 1.35L5.41 20z\"/>\n",
       "  </svg>\n",
       "      </button>\n",
       "      \n",
       "  <style>\n",
       "    .colab-df-container {\n",
       "      display:flex;\n",
       "      flex-wrap:wrap;\n",
       "      gap: 12px;\n",
       "    }\n",
       "\n",
       "    .colab-df-convert {\n",
       "      background-color: #E8F0FE;\n",
       "      border: none;\n",
       "      border-radius: 50%;\n",
       "      cursor: pointer;\n",
       "      display: none;\n",
       "      fill: #1967D2;\n",
       "      height: 32px;\n",
       "      padding: 0 0 0 0;\n",
       "      width: 32px;\n",
       "    }\n",
       "\n",
       "    .colab-df-convert:hover {\n",
       "      background-color: #E2EBFA;\n",
       "      box-shadow: 0px 1px 2px rgba(60, 64, 67, 0.3), 0px 1px 3px 1px rgba(60, 64, 67, 0.15);\n",
       "      fill: #174EA6;\n",
       "    }\n",
       "\n",
       "    [theme=dark] .colab-df-convert {\n",
       "      background-color: #3B4455;\n",
       "      fill: #D2E3FC;\n",
       "    }\n",
       "\n",
       "    [theme=dark] .colab-df-convert:hover {\n",
       "      background-color: #434B5C;\n",
       "      box-shadow: 0px 1px 3px 1px rgba(0, 0, 0, 0.15);\n",
       "      filter: drop-shadow(0px 1px 2px rgba(0, 0, 0, 0.3));\n",
       "      fill: #FFFFFF;\n",
       "    }\n",
       "  </style>\n",
       "\n",
       "      <script>\n",
       "        const buttonEl =\n",
       "          document.querySelector('#df-e0585b88-1c49-412e-8243-c5a3ec7d8a56 button.colab-df-convert');\n",
       "        buttonEl.style.display =\n",
       "          google.colab.kernel.accessAllowed ? 'block' : 'none';\n",
       "\n",
       "        async function convertToInteractive(key) {\n",
       "          const element = document.querySelector('#df-e0585b88-1c49-412e-8243-c5a3ec7d8a56');\n",
       "          const dataTable =\n",
       "            await google.colab.kernel.invokeFunction('convertToInteractive',\n",
       "                                                     [key], {});\n",
       "          if (!dataTable) return;\n",
       "\n",
       "          const docLinkHtml = 'Like what you see? Visit the ' +\n",
       "            '<a target=\"_blank\" href=https://colab.research.google.com/notebooks/data_table.ipynb>data table notebook</a>'\n",
       "            + ' to learn more about interactive tables.';\n",
       "          element.innerHTML = '';\n",
       "          dataTable['output_type'] = 'display_data';\n",
       "          await google.colab.output.renderOutput(dataTable, element);\n",
       "          const docLink = document.createElement('div');\n",
       "          docLink.innerHTML = docLinkHtml;\n",
       "          element.appendChild(docLink);\n",
       "        }\n",
       "      </script>\n",
       "    </div>\n",
       "  </div>\n",
       "  "
      ],
      "text/plain": [
       "                  id\n",
       "hashtags            \n",
       "COVID19          250\n",
       "coronavirus       26\n",
       "covid19           23\n",
       "Covid19           19\n",
       "NYCTestandTrace    5\n",
       "ICYMI              4\n",
       "NYC                4\n",
       "pandemic           4\n",
       "Lebanon            3\n",
       "Trump              3"
      ]
     },
     "execution_count": 18,
     "metadata": {},
     "output_type": "execute_result"
    }
   ],
   "source": [
    "hashtags = hashtags.groupby(['hashtags'])[['id']].count()\n",
    "hashtags10 = hashtags.sort_values(by=['id'], ascending=False).iloc[0:10,:] \n",
    "hashtags10"
   ]
  },
  {
   "cell_type": "code",
   "execution_count": null,
   "metadata": {
    "colab": {
     "base_uri": "https://localhost:8080/",
     "height": 350
    },
    "id": "zJbqR4uZFaQQ",
    "outputId": "a3fb9a5b-1cb4-4efb-a675-2466d28da415"
   },
   "outputs": [
    {
     "data": {
      "image/png": "[encoded data removed]",
      "text/plain": [
       "<Figure size 720x360 with 1 Axes>"
      ]
     },
     "metadata": {
      "needs_background": "light"
     },
     "output_type": "display_data"
    }
   ],
   "source": [
    "fig = plt.figure(figsize = (10, 5))\n",
    " \n",
    "# creating the bar plot\n",
    "plt.bar(hashtags10.index, hashtags10['id'], color ='blue', width = 0.4)\n",
    " \n",
    "plt.xlabel(\"Top 10 hashtags\")\n",
    "plt.ylabel(\"Frequency\")\n",
    "plt.title(\"Bar Plot\")\n",
    "plt.show()"
   ]
  },
  {
   "cell_type": "markdown",
   "metadata": {
    "id": "gsXwx-sZ1xbZ"
   },
   "source": [
    "Finally, (6) let's visualize how many tweets are published every day:\n",
    "- First, we group the tweets by day (disregarding the publication time).\n",
    "- Second, we count the number of tweets for every day.\n",
    "- Third, we plot the time line.\n",
    "\n",
    "\n",
    "\n"
   ]
  },
  {
   "cell_type": "code",
   "execution_count": null,
   "metadata": {
    "id": "MZgPLvF9M3tI"
   },
   "outputs": [],
   "source": [
    "df_day = df.set_index('date').groupby(pd.Grouper(freq='D')).count()[['user_name']]"
   ]
  },
  {
   "cell_type": "code",
   "execution_count": null,
   "metadata": {
    "colab": {
     "base_uri": "https://localhost:8080/",
     "height": 394
    },
    "id": "3QctH7zBNJqZ",
    "outputId": "789b4e0d-5e9d-4bcf-822c-df8f34278f43"
   },
   "outputs": [
    {
     "data": {
      "text/plain": [
       "Text(0, 0.5, 'Tweets')"
      ]
     },
     "execution_count": 42,
     "metadata": {},
     "output_type": "execute_result"
    },
    {
     "data": {
      "image/png": "[encoded data removed]",
      "text/plain": [
       "<Figure size 720x360 with 1 Axes>"
      ]
     },
     "metadata": {
      "needs_background": "light"
     },
     "output_type": "display_data"
    }
   ],
   "source": [
    "fig = plt.figure(figsize = (10, 5))\n",
    "\n",
    "plt.plot(df_day.index, df_day.user_name)\n",
    "plt.title('Number of daily tweets')\n",
    "plt.xticks(rotation=30, ha='right')\n",
    "plt.xlabel('Date')\n",
    "plt.ylabel('Tweets')"
   ]
  },
  {
   "cell_type": "markdown",
   "metadata": {
    "id": "p_5KerBw2reF"
   },
   "source": [
    "## Exercise 2\n",
    "Now, try to repeat the same exercise but counting only re-tweets."
   ]
  },
  {
   "cell_type": "code",
   "execution_count": 16,
   "metadata": {
    "colab": {
     "base_uri": "https://localhost:8080/",
     "height": 394
    },
    "id": "6ePnF4h5WImo",
    "outputId": "ee5572c5-ca37-46b5-f8df-fbc40d59f584"
   },
   "outputs": [],
   "source": [
    "# write here your code\n",
    "\n"
   ]
  },
  {
   "cell_type": "code",
   "execution_count": null,
   "metadata": {
    "id": "y_5HrpOzOWIN"
   },
   "outputs": [],
   "source": []
  }
 ],
 "metadata": {
  "colab": {
   "provenance": []
  },
  "kernelspec": {
   "display_name": "Python 3 (ipykernel)",
   "language": "python",
   "name": "python3"
  },
  "language_info": {
   "codemirror_mode": {
    "name": "ipython",
    "version": 3
   },
   "file_extension": ".py",
   "mimetype": "text/x-python",
   "name": "python",
   "nbconvert_exporter": "python",
   "pygments_lexer": "ipython3",
   "version": "3.9.7"
  }
 },
 "nbformat": 4,
 "nbformat_minor": 4
}
